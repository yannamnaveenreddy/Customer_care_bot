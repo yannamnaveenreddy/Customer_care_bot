{
 "cells": [
  {
   "cell_type": "code",
   "execution_count": 21,
   "metadata": {},
   "outputs": [],
   "source": [
    "import random\n",
    "import string\n",
    "import nltk\n",
    "from sklearn.feature_extraction.text import CountVectorizer\n",
    "from sklearn.metrics.pairwise import cosine_similarity\n",
    "import numpy as np\n",
    "from newspaper import Article\n",
    "import warnings\n",
    "warnings.filterwarnings('ignore') "
   ]
  },
  {
   "cell_type": "code",
   "execution_count": 22,
   "metadata": {},
   "outputs": [
    {
     "data": {
      "text/plain": [
       "True"
      ]
     },
     "execution_count": 22,
     "metadata": {},
     "output_type": "execute_result"
    }
   ],
   "source": [
    "nltk.download('punkt',quiet=True)"
   ]
  },
  {
   "cell_type": "code",
   "execution_count": 23,
   "metadata": {},
   "outputs": [],
   "source": [
    "#different article names are given here\n",
    "article = Article('https://www.mayoclinic.org/diseases-conditions/chronic-kidney-disease/symptoms-causes/syc-20354521')\n",
    "article.download()\n",
    "article.parse()\n",
    "article.nlp()\n",
    "corpus=article.text"
   ]
  },
  {
   "cell_type": "code",
   "execution_count": 24,
   "metadata": {},
   "outputs": [
    {
     "name": "stdout",
     "output_type": "stream",
     "text": [
      "next → Machine Learning Tutorial Machine Learning tutorial provides basic and advanced concepts of machine learning. Our machine learning tutorial is designed for students and working professionals. Machine learning is a growing technology which enables computers to learn automatically from past data. Machine learning uses various algorithms for building mathematical models and making predictions using historical data or information. Currently, it is being used for various tasks such as image recognition, speech recognition, email filtering, Facebook auto-tagging, recommender system, and many more. This machine learning tutorial gives you an introduction to machine learning along with the wide range of machine learning techniques such as Supervised, Unsupervised, and Reinforcement learning. You will learn about regression and classification models, clustering methods, hidden Markov models, and various sequential models. What is Machine Learning In the real world, we are surrounded by humans who can learn everything from their experiences with their learning capability, and we have computers or machines which work on our instructions. But can a machine also learn from experiences or past data like a human does? So here comes the role of Machine Learning. Machine Learning is said as a subset of artificial intelligence that is mainly concerned with the development of algorithms which allow a computer to learn from the data and past experiences on their own. The term machine learning was first introduced by Arthur Samuel in 1959. We can define it in a summarized way as: Machine learning enables a machine to automatically learn from data, improve performance from experiences, and predict things without being explicitly programmed. With the help of sample historical data, which is known as training data, machine learning algorithms build a mathematical model that helps in making predictions or decisions without being explicitly programmed. Machine learning brings computer science and statistics together for creating predictive models. Machine learning constructs or uses the algorithms that learn from historical data. The more we will provide the information, the higher will be the performance. A machine has the ability to learn if it can improve its performance by gaining more data. How does Machine Learning work A Machine Learning system learns from historical data, builds the prediction models, and whenever it receives new data, predicts the output for it. The accuracy of predicted output depends upon the amount of data, as the huge amount of data helps to build a better model which predicts the output more accurately. Suppose we have a complex problem, where we need to perform some predictions, so instead of writing a code for it, we just need to feed the data to generic algorithms, and with the help of these algorithms, machine builds the logic as per the data and predict the output. Machine learning has changed our way of thinking about the problem. The below block diagram explains the working of Machine Learning algorithm: Features of Machine Learning: Machine learning uses data to detect various patterns in a given dataset.\n",
      "\n",
      "It can learn from past data and improve automatically.\n",
      "\n",
      "It is a data-driven technology.\n",
      "\n",
      "Machine learning is much similar to data mining as it also deals with the huge amount of the data. Need for Machine Learning The need for machine learning is increasing day by day. The reason behind the need for machine learning is that it is capable of doing tasks that are too complex for a person to implement directly. As a human, we have some limitations as we cannot access the huge amount of data manually, so for this, we need some computer systems and here comes the machine learning to make things easy for us. We can train machine learning algorithms by providing them the huge amount of data and let them explore the data, construct the models, and predict the required output automatically. The performance of the machine learning algorithm depends on the amount of data, and it can be determined by the cost function. With the help of machine learning, we can save both time and money. The importance of machine learning can be easily understood by its uses cases, Currently, machine learning is used in self-driving cars, cyber fraud detection, face recognition, and friend suggestion by Facebook, etc. Various top companies such as Netflix and Amazon have build machine learning models that are using a vast amount of data to analyze the user interest and recommend product accordingly. Following are some key points which show the importance of Machine Learning: Rapid increment in the production of data\n",
      "\n",
      "Solving complex problems, which are difficult for a human\n",
      "\n",
      "Decision making in various sector including finance\n",
      "\n",
      "Finding hidden patterns and extracting useful information from data. Classification of Machine Learning At a broad level, machine learning can be classified into three types: Supervised learning Unsupervised learning Reinforcement learning 1) Supervised Learning Supervised learning is a type of machine learning method in which we provide sample labeled data to the machine learning system in order to train it, and on that basis, it predicts the output. The system creates a model using labeled data to understand the datasets and learn about each data, once the training and processing are done then we test the model by providing a sample data to check whether it is predicting the exact output or not. The goal of supervised learning is to map input data with the output data. The supervised learning is based on supervision, and it is the same as when a student learns things in the supervision of the teacher. The example of supervised learning is spam filtering. Supervised learning can be grouped further in two categories of algorithms: Classification\n",
      "\n",
      "Regression 2) Unsupervised Learning Unsupervised learning is a learning method in which a machine learns without any supervision. The training is provided to the machine with the set of data that has not been labeled, classified, or categorized, and the algorithm needs to act on that data without any supervision. The goal of unsupervised learning is to restructure the input data into new features or a group of objects with similar patterns. In unsupervised learning, we don't have a predetermined result. The machine tries to find useful insights from the huge amount of data. It can be further classifieds into two categories of algorithms: Clustering\n",
      "\n",
      "Association 3) Reinforcement Learning Reinforcement learning is a feedback-based learning method, in which a learning agent gets a reward for each right action and gets a penalty for each wrong action. The agent learns automatically with these feedbacks and improves its performance. In reinforcement learning, the agent interacts with the environment and explores it. The goal of an agent is to get the most reward points, and hence, it improves its performance. The robotic dog, which automatically learns the movement of his arms, is an example of Reinforcement learning. Note: We will learn about the above types of machine learning in detail in later chapters. History of Machine Learning Before some years (about 40-50 years), machine learning was science fiction, but today it is the part of our daily life. Machine learning is making our day to day life easy from self-driving cars to Amazon virtual assistant \"Alexa\". However, the idea behind machine learning is so old and has a long history. Below some milestones are given which have occurred in the history of machine learning: The early history of Machine Learning (Pre-1940): 1834: In 1834, Charles Babbage, the father of the computer, conceived a device that could be programmed with punch cards. However, the machine was never built, but all modern computers rely on its logical structure.\n",
      "\n",
      "In 1834, Charles Babbage, the father of the computer, conceived a device that could be programmed with punch cards. However, the machine was never built, but all modern computers rely on its logical structure. 1936: In 1936, Alan Turing gave a theory that how a machine can determine and execute a set of instructions. The era of stored program computers: 1940: In 1940, the first manually operated computer, \"ENIAC\" was invented, which was the first electronic general-purpose computer. After that stored program computer such as EDSAC in 1949 and EDVAC in 1951 were invented.\n",
      "\n",
      "In 1940, the first manually operated computer, \"ENIAC\" was invented, which was the first electronic general-purpose computer. After that stored program computer such as EDSAC in 1949 and EDVAC in 1951 were invented. 1943: In 1943, a human neural network was modeled with an electrical circuit. In 1950, the scientists started applying their idea to work and analyzed how human neurons might work. Computer machinery and intelligence: 1950: In 1950, Alan Turing published a seminal paper, \"Computer Machinery and Intelligence,\" on the topic of artificial intelligence. In his paper, he asked, \"Can machines think?\" Machine intelligence in Games: 1952: Arthur Samuel, who was the pioneer of machine learning, created a program that helped an IBM computer to play a checkers game. It performed better more it played.\n",
      "\n",
      "Arthur Samuel, who was the pioneer of machine learning, created a program that helped an IBM computer to play a checkers game. It performed better more it played. 1959: In 1959, the term \"Machine Learning\" was first coined by Arthur Samuel. The first \"AI\" winter: The duration of 1974 to 1980 was the tough time for AI and ML researchers, and this duration was called as AI winter .\n",
      "\n",
      ". In this duration, failure of machine translation occurred, and people had reduced their interest from AI, which led to reduced funding by the government to the researches. Machine Learning from theory to reality 1959: In 1959, the first neural network was applied to a real-world problem to remove echoes over phone lines using an adaptive filter.\n",
      "\n",
      "In 1959, the first neural network was applied to a real-world problem to remove echoes over phone lines using an adaptive filter. 1985: In 1985, Terry Sejnowski and Charles Rosenberg invented a neural network NETtalk , which was able to teach itself how to correctly pronounce 20,000 words in one week.\n",
      "\n",
      "In 1985, Terry Sejnowski and Charles Rosenberg invented a neural network , which was able to teach itself how to correctly pronounce 20,000 words in one week. 1997: The IBM's Deep blue intelligent computer won the chess game against the chess expert Garry Kasparov, and it became the first computer which had beaten a human chess expert. Machine Learning at 21st century 2006: In the year 2006, computer scientist Geoffrey Hinton has given a new name to neural net research as \" deep learning ,\" and nowadays, it has become one of the most trending technologies.\n",
      "\n",
      "In the year 2006, computer scientist Geoffrey Hinton has given a new name to neural net research as \" ,\" and nowadays, it has become one of the most trending technologies. 2012: In 2012, Google created a deep neural network which learned to recognize the image of humans and cats in YouTube videos.\n",
      "\n",
      "In 2012, Google created a deep neural network which learned to recognize the image of humans and cats in YouTube videos. 2014: In 2014, the Chabot \" Eugen Goostman \" cleared the Turing Test. It was the first Chabot who convinced the 33% of human judges that it was not a machine.\n",
      "\n",
      "In 2014, the Chabot \" \" cleared the Turing Test. It was the first Chabot who convinced the 33% of human judges that it was not a machine. 2014: DeepFace was a deep neural network created by Facebook, and they claimed that it could recognize a person with the same precision as a human can do.\n",
      "\n",
      "was a deep neural network created by Facebook, and they claimed that it could recognize a person with the same precision as a human can do. 2016: AlphaGo beat the world's number second player Lee sedol at Go game . In 2017 it beat the number one player of this game Ke Jie .\n",
      "\n",
      "beat the world's number second player at . In 2017 it beat the number one player of this game . 2017: In 2017, the Alphabet's Jigsaw team built an intelligent system that was able to learn the online trolling. It used to read millions of comments of different websites to learn to stop online trolling. Machine Learning at present: Now machine learning has got a great advancement in its research, and it is present everywhere around us, such as self-driving cars, Amazon Alexa, Catboats, recommender system, and many more. It includes Supervised, unsupervised, and reinforcement learning with clustering, classification, decision tree, SVM algorithms, etc. Modern machine learning models can be used for making various predictions, including weather prediction, disease prediction, stock market analysis, etc. Prerequisites Before learning machine learning, you must have the basic knowledge of followings so that you can easily understand the concepts of machine learning: Fundamental knowledge of probability and linear algebra.\n",
      "\n",
      "The ability to code in any computer language, especially in Python language.\n",
      "\n",
      "Knowledge of Calculus, especially derivatives of single variable and multivariate functions. Audience Our Machine learning tutorial is designed to help beginner and professionals. Problems We assure you that you will not find any difficulty while learning our Machine learning tutorial. But if there is any mistake in this tutorial, kindly post the problem or error in the contact form so that we can improve it. Next Topic Applications of Machine Learning\n",
      "\n",
      "\n",
      "\n",
      "next →\n",
      "\n",
      "\n",
      "\n",
      "\n"
     ]
    }
   ],
   "source": [
    "print(corpus)"
   ]
  },
  {
   "cell_type": "code",
   "execution_count": 25,
   "metadata": {},
   "outputs": [],
   "source": [
    "text=corpus\n",
    "sentence_list=nltk.sent_tokenize(text)"
   ]
  },
  {
   "cell_type": "code",
   "execution_count": 26,
   "metadata": {},
   "outputs": [
    {
     "name": "stdout",
     "output_type": "stream",
     "text": [
      "['next → Machine Learning Tutorial Machine Learning tutorial provides basic and advanced concepts of machine learning.', 'Our machine learning tutorial is designed for students and working professionals.', 'Machine learning is a growing technology which enables computers to learn automatically from past data.', 'Machine learning uses various algorithms for building mathematical models and making predictions using historical data or information.', 'Currently, it is being used for various tasks such as image recognition, speech recognition, email filtering, Facebook auto-tagging, recommender system, and many more.', 'This machine learning tutorial gives you an introduction to machine learning along with the wide range of machine learning techniques such as Supervised, Unsupervised, and Reinforcement learning.', 'You will learn about regression and classification models, clustering methods, hidden Markov models, and various sequential models.', 'What is Machine Learning In the real world, we are surrounded by humans who can learn everything from their experiences with their learning capability, and we have computers or machines which work on our instructions.', 'But can a machine also learn from experiences or past data like a human does?', 'So here comes the role of Machine Learning.', 'Machine Learning is said as a subset of artificial intelligence that is mainly concerned with the development of algorithms which allow a computer to learn from the data and past experiences on their own.', 'The term machine learning was first introduced by Arthur Samuel in 1959.', 'We can define it in a summarized way as: Machine learning enables a machine to automatically learn from data, improve performance from experiences, and predict things without being explicitly programmed.', 'With the help of sample historical data, which is known as training data, machine learning algorithms build a mathematical model that helps in making predictions or decisions without being explicitly programmed.', 'Machine learning brings computer science and statistics together for creating predictive models.', 'Machine learning constructs or uses the algorithms that learn from historical data.', 'The more we will provide the information, the higher will be the performance.', 'A machine has the ability to learn if it can improve its performance by gaining more data.', 'How does Machine Learning work A Machine Learning system learns from historical data, builds the prediction models, and whenever it receives new data, predicts the output for it.', 'The accuracy of predicted output depends upon the amount of data, as the huge amount of data helps to build a better model which predicts the output more accurately.', 'Suppose we have a complex problem, where we need to perform some predictions, so instead of writing a code for it, we just need to feed the data to generic algorithms, and with the help of these algorithms, machine builds the logic as per the data and predict the output.', 'Machine learning has changed our way of thinking about the problem.', 'The below block diagram explains the working of Machine Learning algorithm: Features of Machine Learning: Machine learning uses data to detect various patterns in a given dataset.', 'It can learn from past data and improve automatically.', 'It is a data-driven technology.', 'Machine learning is much similar to data mining as it also deals with the huge amount of the data.', 'Need for Machine Learning The need for machine learning is increasing day by day.', 'The reason behind the need for machine learning is that it is capable of doing tasks that are too complex for a person to implement directly.', 'As a human, we have some limitations as we cannot access the huge amount of data manually, so for this, we need some computer systems and here comes the machine learning to make things easy for us.', 'We can train machine learning algorithms by providing them the huge amount of data and let them explore the data, construct the models, and predict the required output automatically.', 'The performance of the machine learning algorithm depends on the amount of data, and it can be determined by the cost function.', 'With the help of machine learning, we can save both time and money.', 'The importance of machine learning can be easily understood by its uses cases, Currently, machine learning is used in self-driving cars, cyber fraud detection, face recognition, and friend suggestion by Facebook, etc.', 'Various top companies such as Netflix and Amazon have build machine learning models that are using a vast amount of data to analyze the user interest and recommend product accordingly.', 'Following are some key points which show the importance of Machine Learning: Rapid increment in the production of data\\n\\nSolving complex problems, which are difficult for a human\\n\\nDecision making in various sector including finance\\n\\nFinding hidden patterns and extracting useful information from data.', 'Classification of Machine Learning At a broad level, machine learning can be classified into three types: Supervised learning Unsupervised learning Reinforcement learning 1) Supervised Learning Supervised learning is a type of machine learning method in which we provide sample labeled data to the machine learning system in order to train it, and on that basis, it predicts the output.', 'The system creates a model using labeled data to understand the datasets and learn about each data, once the training and processing are done then we test the model by providing a sample data to check whether it is predicting the exact output or not.', 'The goal of supervised learning is to map input data with the output data.', 'The supervised learning is based on supervision, and it is the same as when a student learns things in the supervision of the teacher.', 'The example of supervised learning is spam filtering.', 'Supervised learning can be grouped further in two categories of algorithms: Classification\\n\\nRegression 2) Unsupervised Learning Unsupervised learning is a learning method in which a machine learns without any supervision.', 'The training is provided to the machine with the set of data that has not been labeled, classified, or categorized, and the algorithm needs to act on that data without any supervision.', 'The goal of unsupervised learning is to restructure the input data into new features or a group of objects with similar patterns.', \"In unsupervised learning, we don't have a predetermined result.\", 'The machine tries to find useful insights from the huge amount of data.', 'It can be further classifieds into two categories of algorithms: Clustering\\n\\nAssociation 3) Reinforcement Learning Reinforcement learning is a feedback-based learning method, in which a learning agent gets a reward for each right action and gets a penalty for each wrong action.', 'The agent learns automatically with these feedbacks and improves its performance.', 'In reinforcement learning, the agent interacts with the environment and explores it.', 'The goal of an agent is to get the most reward points, and hence, it improves its performance.', 'The robotic dog, which automatically learns the movement of his arms, is an example of Reinforcement learning.', 'Note: We will learn about the above types of machine learning in detail in later chapters.', 'History of Machine Learning Before some years (about 40-50 years), machine learning was science fiction, but today it is the part of our daily life.', 'Machine learning is making our day to day life easy from self-driving cars to Amazon virtual assistant \"Alexa\".', 'However, the idea behind machine learning is so old and has a long history.', 'Below some milestones are given which have occurred in the history of machine learning: The early history of Machine Learning (Pre-1940): 1834: In 1834, Charles Babbage, the father of the computer, conceived a device that could be programmed with punch cards.', 'However, the machine was never built, but all modern computers rely on its logical structure.', 'In 1834, Charles Babbage, the father of the computer, conceived a device that could be programmed with punch cards.', 'However, the machine was never built, but all modern computers rely on its logical structure.', '1936: In 1936, Alan Turing gave a theory that how a machine can determine and execute a set of instructions.', 'The era of stored program computers: 1940: In 1940, the first manually operated computer, \"ENIAC\" was invented, which was the first electronic general-purpose computer.', 'After that stored program computer such as EDSAC in 1949 and EDVAC in 1951 were invented.', 'In 1940, the first manually operated computer, \"ENIAC\" was invented, which was the first electronic general-purpose computer.', 'After that stored program computer such as EDSAC in 1949 and EDVAC in 1951 were invented.', '1943: In 1943, a human neural network was modeled with an electrical circuit.', 'In 1950, the scientists started applying their idea to work and analyzed how human neurons might work.', 'Computer machinery and intelligence: 1950: In 1950, Alan Turing published a seminal paper, \"Computer Machinery and Intelligence,\" on the topic of artificial intelligence.', 'In his paper, he asked, \"Can machines think?\"', 'Machine intelligence in Games: 1952: Arthur Samuel, who was the pioneer of machine learning, created a program that helped an IBM computer to play a checkers game.', 'It performed better more it played.', 'Arthur Samuel, who was the pioneer of machine learning, created a program that helped an IBM computer to play a checkers game.', 'It performed better more it played.', '1959: In 1959, the term \"Machine Learning\" was first coined by Arthur Samuel.', 'The first \"AI\" winter: The duration of 1974 to 1980 was the tough time for AI and ML researchers, and this duration was called as AI winter .', '.', 'In this duration, failure of machine translation occurred, and people had reduced their interest from AI, which led to reduced funding by the government to the researches.', 'Machine Learning from theory to reality 1959: In 1959, the first neural network was applied to a real-world problem to remove echoes over phone lines using an adaptive filter.', 'In 1959, the first neural network was applied to a real-world problem to remove echoes over phone lines using an adaptive filter.', '1985: In 1985, Terry Sejnowski and Charles Rosenberg invented a neural network NETtalk , which was able to teach itself how to correctly pronounce 20,000 words in one week.', 'In 1985, Terry Sejnowski and Charles Rosenberg invented a neural network , which was able to teach itself how to correctly pronounce 20,000 words in one week.', \"1997: The IBM's Deep blue intelligent computer won the chess game against the chess expert Garry Kasparov, and it became the first computer which had beaten a human chess expert.\", 'Machine Learning at 21st century 2006: In the year 2006, computer scientist Geoffrey Hinton has given a new name to neural net research as \" deep learning ,\" and nowadays, it has become one of the most trending technologies.', 'In the year 2006, computer scientist Geoffrey Hinton has given a new name to neural net research as \" ,\" and nowadays, it has become one of the most trending technologies.', '2012: In 2012, Google created a deep neural network which learned to recognize the image of humans and cats in YouTube videos.', 'In 2012, Google created a deep neural network which learned to recognize the image of humans and cats in YouTube videos.', '2014: In 2014, the Chabot \" Eugen Goostman \" cleared the Turing Test.', 'It was the first Chabot who convinced the 33% of human judges that it was not a machine.', 'In 2014, the Chabot \" \" cleared the Turing Test.', 'It was the first Chabot who convinced the 33% of human judges that it was not a machine.', '2014: DeepFace was a deep neural network created by Facebook, and they claimed that it could recognize a person with the same precision as a human can do.', 'was a deep neural network created by Facebook, and they claimed that it could recognize a person with the same precision as a human can do.', \"2016: AlphaGo beat the world's number second player Lee sedol at Go game .\", 'In 2017 it beat the number one player of this game Ke Jie .', \"beat the world's number second player at .\", 'In 2017 it beat the number one player of this game .', \"2017: In 2017, the Alphabet's Jigsaw team built an intelligent system that was able to learn the online trolling.\", 'It used to read millions of comments of different websites to learn to stop online trolling.', 'Machine Learning at present: Now machine learning has got a great advancement in its research, and it is present everywhere around us, such as self-driving cars, Amazon Alexa, Catboats, recommender system, and many more.', 'It includes Supervised, unsupervised, and reinforcement learning with clustering, classification, decision tree, SVM algorithms, etc.', 'Modern machine learning models can be used for making various predictions, including weather prediction, disease prediction, stock market analysis, etc.', 'Prerequisites Before learning machine learning, you must have the basic knowledge of followings so that you can easily understand the concepts of machine learning: Fundamental knowledge of probability and linear algebra.', 'The ability to code in any computer language, especially in Python language.', 'Knowledge of Calculus, especially derivatives of single variable and multivariate functions.', 'Audience Our Machine learning tutorial is designed to help beginner and professionals.', 'Problems We assure you that you will not find any difficulty while learning our Machine learning tutorial.', 'But if there is any mistake in this tutorial, kindly post the problem or error in the contact form so that we can improve it.', 'Next Topic Applications of Machine Learning\\n\\n\\n\\nnext →']\n"
     ]
    }
   ],
   "source": [
    "print(sentence_list)"
   ]
  },
  {
   "cell_type": "code",
   "execution_count": 27,
   "metadata": {},
   "outputs": [],
   "source": [
    "def greeting_response(text):\n",
    "  text = text.lower()\n",
    "  bot_greetings = ['howdy','hi','hey','hello']\n",
    "  user_greetings=['hi','hey','greetings','wassup','hello']\n",
    "  for word in text.split():\n",
    "    if word in user_greetings:\n",
    "        return random.choice(bot_greetings)"
   ]
  },
  {
   "cell_type": "code",
   "execution_count": 28,
   "metadata": {},
   "outputs": [],
   "source": [
    "def index_sort(list_var):\n",
    "  length = len(list_var)\n",
    "  list_index = list(range(0, length))\n",
    "  x=list_var\n",
    "  for i in range(length):\n",
    "    for j in range(length):\n",
    "      if x[list_index[i]]>x[list_index[j]]:\n",
    "        temp = list_index[i]\n",
    "        list_index[i]=list_index[j]\n",
    "        list_index[j] = temp\n",
    "  return list_index"
   ]
  },
  {
   "cell_type": "code",
   "execution_count": 29,
   "metadata": {},
   "outputs": [],
   "source": [
    "def bot_response(user_input):\n",
    "  user_input=user_input.lower()\n",
    "  sentence_list.append(user_input)\n",
    "  bot_response = ''\n",
    "  cm = CountVectorizer().fit_transform(sentence_list)\n",
    "  similarity_scores = cosine_similarity(cm[-1], cm)\n",
    "  similarity_scores_list = similarity_scores.flatten()\n",
    "  index = index_sort(similarity_scores_list)\n",
    "  index = index[1:]\n",
    "  response_flag = 0\n",
    "  j=0\n",
    "  for i in range(len(index)):\n",
    "    if similarity_scores_list[index[i]] > 0.0:\n",
    "      bot_response = bot_response+ ' '+sentence_list[index[i]]\n",
    "      response_flag =1\n",
    "      j = j+1\n",
    "    if j>2:\n",
    "      break\n",
    "  if response_flag == 0:\n",
    "    bot_response = bot_response+' '+\"I apologize, I don't understand.\"\n",
    "  sentence_list.remove(user_input)\n",
    "  return bot_response"
   ]
  },
  {
   "cell_type": "code",
   "execution_count": 30,
   "metadata": {},
   "outputs": [
    {
     "name": "stdout",
     "output_type": "stream",
     "text": [
      "Doc Bot : Naveen reddy\n",
      "hi\n",
      "Doc Bot: howdy\n",
      "hello\n",
      "Doc Bot: howdy\n",
      "adna\n",
      "Doc Bot:  I apologize, I don't understand.\n",
      "what is this about\n",
      "Doc Bot:  It is a data-driven technology. But if there is any mistake in this tutorial, kindly post the problem or error in the contact form so that we can improve it. The example of supervised learning is spam filtering.\n",
      "What is the Classification Algorithm ?\n",
      "Doc Bot:  The supervised learning is based on supervision, and it is the same as when a student learns things in the supervision of the teacher. The training is provided to the machine with the set of data that has not been labeled, classified, or categorized, and the algorithm needs to act on that data without any supervision. The performance of the machine learning algorithm depends on the amount of data, and it can be determined by the cost function.\n",
      "what is machine learning ?\n",
      "Doc Bot:  Classification of Machine Learning At a broad level, machine learning can be classified into three types: Supervised learning Unsupervised learning Reinforcement learning 1) Supervised Learning Supervised learning is a type of machine learning method in which we provide sample labeled data to the machine learning system in order to train it, and on that basis, it predicts the output. next → Machine Learning Tutorial Machine Learning tutorial provides basic and advanced concepts of machine learning. This machine learning tutorial gives you an introduction to machine learning along with the wide range of machine learning techniques such as Supervised, Unsupervised, and Reinforcement learning.\n",
      "break\n",
      "Bot: chat with you later !\n"
     ]
    }
   ],
   "source": [
    "print('Doc Bot : Naveen reddy')\n",
    "exit_list = ['exit','see you later', 'bye','quit','break','thank you']\n",
    "while (True):\n",
    "  user_input = input()\n",
    "  if user_input.lower() in exit_list:\n",
    "    print('Bot: chat with you later !')\n",
    "    break\n",
    "  else:\n",
    "    if greeting_response(user_input)!=None:\n",
    "      print('Doc Bot: '+greeting_response(user_input))\n",
    "    else:\n",
    "      print('Doc Bot: '+bot_response(user_input))\n"
   ]
  },
  {
   "cell_type": "code",
   "execution_count": null,
   "metadata": {},
   "outputs": [],
   "source": [
    "#end of the conversion"
   ]
  }
 ],
 "metadata": {
  "kernelspec": {
   "display_name": "Python 3",
   "language": "python",
   "name": "python3"
  },
  "language_info": {
   "codemirror_mode": {
    "name": "ipython",
    "version": 3
   },
   "file_extension": ".py",
   "mimetype": "text/x-python",
   "name": "python",
   "nbconvert_exporter": "python",
   "pygments_lexer": "ipython3",
   "version": "3.7.6"
  }
 },
 "nbformat": 4,
 "nbformat_minor": 4
}
